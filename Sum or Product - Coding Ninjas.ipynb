{
 "cells": [
  {
   "cell_type": "markdown",
   "id": "2aba4678",
   "metadata": {},
   "source": [
    "<div class=\"alert alert-block alert-success\" align=\"center\">\n",
    "\n",
    "# Coding Ninjas\n",
    "   \n",
    "# (Interview Problem)\n",
    "\n",
    "</div>"
   ]
  },
  {
   "cell_type": "markdown",
   "id": "362d41e6",
   "metadata": {},
   "source": [
    "***"
   ]
  },
  {
   "cell_type": "markdown",
   "id": "f01034d9",
   "metadata": {
    "slideshow": {
     "slide_type": "subslide"
    }
   },
   "source": [
    "<div class=\"alert alert-block alert-warning\" align=\"center\">\n",
    "    \n",
    "# Sum or Product\n",
    "    \n",
    "</div>    "
   ]
  },
  {
   "cell_type": "markdown",
   "id": "2c704c43",
   "metadata": {},
   "source": [
    "#### You are given a number ‘N’ and a query ‘Q.’ If ‘Q’ is 1, then you have to return the sum of all integers from 1 to ‘N,’ else if ‘Q’ is equal to 2 then you have to return the product of all integers from 1 to ‘N.’ Since the product can be very large, return it modulo 10 ^ 9 + 7."
   ]
  },
  {
   "cell_type": "markdown",
   "id": "4dfff595",
   "metadata": {},
   "source": [
    "#### For example <br> Given ‘N’ = 4, ‘Q’ = 1. <br> Then the answer is 10 because the sum of all integers between 1 and 4 are 1, 2, 3, and 4. Hence 1 + 2 + 3 + 4 is equal to 10."
   ]
  },
  {
   "cell_type": "markdown",
   "id": "acd7643b",
   "metadata": {},
   "source": [
    "#### For each test case, <br> You are supposed to return an integer denoting the sum or product of ‘N’ numbers."
   ]
  },
  {
   "cell_type": "markdown",
   "id": "32cf92b9",
   "metadata": {
    "slideshow": {
     "slide_type": "-"
    }
   },
   "source": [
    "Sample Input 1 : <br> \n",
    "2   <br>\n",
    "4 1 <br>\n",
    "4 2 <br>"
   ]
  },
  {
   "cell_type": "markdown",
   "id": "9990e946",
   "metadata": {},
   "source": [
    "Sample Output 1 : <br>\n",
    "10  <br>\n",
    "24  <br>"
   ]
  },
  {
   "cell_type": "markdown",
   "id": "773896fe",
   "metadata": {},
   "source": [
    "***"
   ]
  },
  {
   "cell_type": "markdown",
   "id": "3583b654",
   "metadata": {},
   "source": [
    "<div align=\"center\">\n",
    "\n",
    "### Whole Program"
   ]
  },
  {
   "cell_type": "code",
   "execution_count": 23,
   "id": "a0a0c22e",
   "metadata": {
    "scrolled": false
   },
   "outputs": [
    {
     "name": "stdout",
     "output_type": "stream",
     "text": [
      "2\n",
      "\n",
      "9 1\n",
      "1 + 0 = 1\n",
      "2 + 1 = 3\n",
      "3 + 3 = 6\n",
      "4 + 6 = 10\n",
      "5 + 10 = 15\n",
      "6 + 15 = 21\n",
      "7 + 21 = 28\n",
      "8 + 28 = 36\n",
      "9 + 36 = 45\n",
      "\n",
      "Sum :  45 \n",
      "\n",
      "\n",
      " \n",
      "9 2\n",
      "1 * 1 = 1\n",
      "2 * 1 = 2\n",
      "3 * 2 = 6\n",
      "4 * 6 = 24\n",
      "5 * 24 = 120\n",
      "6 * 120 = 720\n",
      "7 * 720 = 5040\n",
      "8 * 5040 = 40320\n",
      "9 * 40320 = 362880\n",
      "\n",
      "Product :  362880\n",
      " \n"
     ]
    }
   ],
   "source": [
    "test_cases = int(input())\n",
    "\n",
    "print(\"\")\n",
    "\n",
    "for i in range(int(test_cases)):\n",
    "    till_num, condition_num = input().split()\n",
    "\n",
    "\n",
    "    if (int(condition_num) == 1):\n",
    "        sum = 0\n",
    "        for k in range(1, int(till_num)+1):\n",
    "            print(k, \"+\", sum, \"=\", k+sum)\n",
    "            sum = k + sum\n",
    "    \n",
    "        print(\"\\nSum : \", sum,\"\\n\\n\")\n",
    "        print(\" \")\n",
    "\n",
    "    elif(int(condition_num) == 2):\n",
    "        product = 1\n",
    "        for l in range(1, int(till_num)+1):\n",
    "            print(l, \"*\", product, \"=\", l * product)\n",
    "            product = l * product\n",
    "            \n",
    "        print(\"\\nProduct : \", product)\n",
    "        print(\" \")\n",
    "\n",
    "    else:\n",
    "        print(\"Wrong input\")"
   ]
  },
  {
   "cell_type": "markdown",
   "id": "83b73763",
   "metadata": {},
   "source": [
    "***"
   ]
  },
  {
   "cell_type": "markdown",
   "id": "4d76700b",
   "metadata": {},
   "source": [
    "<div <font size=\"4\">\n",
    "\n",
    "### Line-by-Line Explanation:\n",
    "    \n",
    "</div>    "
   ]
  },
  {
   "cell_type": "markdown",
   "id": "205d9f98",
   "metadata": {},
   "source": [
    "***"
   ]
  },
  {
   "cell_type": "markdown",
   "id": "5ab5abe2",
   "metadata": {},
   "source": [
    "### 1] Taking input for Number of Test Cases:"
   ]
  },
  {
   "cell_type": "code",
   "execution_count": null,
   "id": "af6a7899",
   "metadata": {},
   "outputs": [],
   "source": [
    "test_cases = int(input())"
   ]
  },
  {
   "cell_type": "markdown",
   "id": "32c4df0a",
   "metadata": {},
   "source": [
    "***"
   ]
  },
  {
   "cell_type": "markdown",
   "id": "c36b491b",
   "metadata": {},
   "source": [
    "### 2] Taking Input in the same mentioned format: <br>\n",
    "\n",
    "\n",
    "#### &nbsp;&nbsp;&nbsp;&nbsp;&nbsp; a) <u>\"till_num\"</u> is the number till which we need to perform our operations <br><br> &nbsp;&nbsp;&nbsp;&nbsp;&nbsp; b) <u>\"condition_num\"</u> is the number which will decide if addition or multiplication"
   ]
  },
  {
   "cell_type": "code",
   "execution_count": null,
   "id": "a28080cb",
   "metadata": {},
   "outputs": [],
   "source": [
    "for i in range(int(test_cases)):\n",
    "    till_num, condition_num = input().split()"
   ]
  },
  {
   "cell_type": "markdown",
   "id": "a5e0f1b0",
   "metadata": {},
   "source": [
    "***"
   ]
  },
  {
   "cell_type": "markdown",
   "id": "15bc2ddd",
   "metadata": {},
   "source": [
    "### 3] Checking Conditon: <br><br> &nbsp;&nbsp; &nbsp; If input is \"1\" then <u> Addition </u>:"
   ]
  },
  {
   "cell_type": "code",
   "execution_count": null,
   "id": "eaa173ef",
   "metadata": {},
   "outputs": [],
   "source": [
    "if (int(condition_num) == 1):\n",
    "        sum = 0\n",
    "        for k in range(1, int(till_num)+1):\n",
    "            print(k, \"+\", sum, \"=\", k+sum)\n",
    "            sum = k + sum\n",
    "    \n",
    "        print(\"\\nSum : \", sum)\n",
    "        print(\" \")"
   ]
  },
  {
   "cell_type": "markdown",
   "id": "f8bc1150",
   "metadata": {},
   "source": [
    "***"
   ]
  },
  {
   "cell_type": "markdown",
   "id": "017b3f6d",
   "metadata": {},
   "source": [
    "### 4] Checking Conditon: <br><br> &nbsp;&nbsp; &nbsp; If input is \"2\" then <u> Multiplication </u>:"
   ]
  },
  {
   "cell_type": "code",
   "execution_count": null,
   "id": "5d3fbd57",
   "metadata": {},
   "outputs": [],
   "source": [
    "elif(int(condition_num) == 2):\n",
    "        product = 1\n",
    "        for l in range(1, int(till_num)+1):\n",
    "            print(l, \"*\", product, \"=\", l * product)\n",
    "            product = l * product\n",
    "            \n",
    "        print(\"\\nProduct : \", product)\n",
    "        print(\" \")"
   ]
  },
  {
   "cell_type": "markdown",
   "id": "222d6a49",
   "metadata": {},
   "source": [
    "***"
   ]
  },
  {
   "cell_type": "markdown",
   "id": "f32aea01",
   "metadata": {},
   "source": [
    "### If any other Input then: "
   ]
  },
  {
   "cell_type": "code",
   "execution_count": null,
   "id": "5b8c8a40",
   "metadata": {},
   "outputs": [],
   "source": [
    "else:\n",
    "        print(\"Wrong input\")"
   ]
  },
  {
   "cell_type": "markdown",
   "id": "c14f6373",
   "metadata": {},
   "source": [
    "***"
   ]
  },
  {
   "cell_type": "markdown",
   "id": "f125a2d9",
   "metadata": {},
   "source": [
    "## Program in same output format as specified in Coding Ninjas:"
   ]
  },
  {
   "cell_type": "code",
   "execution_count": 25,
   "id": "2ec17b1e",
   "metadata": {},
   "outputs": [
    {
     "name": "stdout",
     "output_type": "stream",
     "text": [
      "2\n",
      "\n",
      "5 1\n",
      "15\n",
      " \n",
      "5 2\n",
      "120\n",
      " \n"
     ]
    }
   ],
   "source": [
    "test_cases = int(input())\n",
    "\n",
    "print(\"\")\n",
    "\n",
    "for i in range(int(test_cases)):\n",
    "    till_num, condition_num = input().split()\n",
    "\n",
    "\n",
    "    if (int(condition_num) == 1):\n",
    "        sum = 0\n",
    "        for k in range(1, int(till_num)+1):\n",
    "            sum = k + sum\n",
    "    \n",
    "        #print(\"\\nSum : \", sum,\"\\n\\n\")\n",
    "        print(sum)\n",
    "        print(\" \")\n",
    "\n",
    "    elif(int(condition_num) == 2):\n",
    "        product = 1\n",
    "        for l in range(1, int(till_num)+1):\n",
    "            product = l * product\n",
    "            \n",
    "        #print(\"\\nProduct : \", product)\n",
    "        print(product)\n",
    "        print(\" \")\n",
    "\n",
    "    else:\n",
    "        print(\"Wrong input\")"
   ]
  },
  {
   "cell_type": "markdown",
   "id": "162595e1",
   "metadata": {},
   "source": [
    "***"
   ]
  },
  {
   "cell_type": "markdown",
   "id": "c038f5ac",
   "metadata": {},
   "source": [
    "<div class=\"alert alert-block alert-success\" align=\"center\">\n",
    " \n",
    "# Thank - You\n",
    "\n",
    "</div>"
   ]
  }
 ],
 "metadata": {
  "kernelspec": {
   "display_name": "Python 3 (ipykernel)",
   "language": "python",
   "name": "python3"
  },
  "language_info": {
   "codemirror_mode": {
    "name": "ipython",
    "version": 3
   },
   "file_extension": ".py",
   "mimetype": "text/x-python",
   "name": "python",
   "nbconvert_exporter": "python",
   "pygments_lexer": "ipython3",
   "version": "3.8.10"
  }
 },
 "nbformat": 4,
 "nbformat_minor": 5
}
